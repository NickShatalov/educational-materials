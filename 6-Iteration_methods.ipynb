{
 "cells": [
  {
   "cell_type": "markdown",
   "metadata": {},
   "source": [
    "## Билет 6\n",
    "### Примеры и канонический вид одношаговых итерационных методов."
   ]
  },
  {
   "cell_type": "markdown",
   "metadata": {},
   "source": [
    "Рассматриваем $$Ax = f,\\quad det\\, A \\neq 0.$$"
   ]
  },
  {
   "cell_type": "markdown",
   "metadata": {},
   "source": [
    "Преобразуем систему к виду:\n",
    "$$ x_i = \n",
    "-\\sum_{j=1}^{i-1}{ \\frac{a_{ij}}{a_{ii}} x_j }\n",
    "-\\sum_{j=i+1}^{n}{ \\frac{a_{ij}}{a_{ii}} x_j }\n",
    "+\\frac{f_i}{a_{ii}},\\quad i=1,\\ldots,n.\n",
    "$$"
   ]
  },
  {
   "cell_type": "markdown",
   "metadata": {},
   "source": [
    "**Метод Якоби.**\n",
    "$$ x_i^{m+1} = \n",
    "-\\sum_{j=1}^{i-1}{ \\frac{a_{ij}}{a_{ii}} x_j^{m} }\n",
    "-\\sum_{j=i+1}^{n}{ \\frac{a_{ij}}{a_{ii}} x_j^{m} }\n",
    "+\\frac{f_i}{a_{ii}},\\quad i=1,\\ldots,n.\n",
    "$$\n",
    "\n",
    "$x_i^0,\\quad i=1,\\ldots,n$ - задаются произвольно."
   ]
  },
  {
   "cell_type": "markdown",
   "metadata": {},
   "source": [
    "**Метод Зейделя.**\n",
    "\n",
    "$$ x_i^{m+1} = \n",
    "-\\sum_{j=1}^{i-1}{ \\frac{a_{ij}}{a_{ii}} x_j^{m+1} }\n",
    "-\\sum_{j=i+1}^{n}{ \\frac{a_{ij}}{a_{ii}} x_j^{m} }\n",
    "+\\frac{f_i}{a_{ii}},\\quad i=1,\\ldots,n.\n",
    "$$"
   ]
  },
  {
   "cell_type": "markdown",
   "metadata": {},
   "source": [
    "**Матричная запись.**\n",
    "Пусть $A_1$ - нижняя треугольная часть $A$, $D$ - диагональная часть $A$, $A_2$ - верхняя треугольная часть $A$.\n",
    "$$ A = A_1 + D + A_2. $$"
   ]
  },
  {
   "cell_type": "markdown",
   "metadata": {},
   "source": [
    "Тогда СЛАУ можно представить в виде:\n",
    "$$ x = -D^{-1}A_1x -D^{-1}A_2x + D^{-1}f. $$"
   ]
  },
  {
   "cell_type": "markdown",
   "metadata": {},
   "source": [
    "Таким образом **Метод Якоби** можно записать в виде:\n",
    "$$ x^{m+1} = -D^{-1}A_1x^m -D^{-1}A_2x^m + D^{-1}f, $$\n",
    "или\n",
    "$$ Dx^{m+1} + \\left( A_1 + A_2 \\right) x^m = f. $$"
   ]
  },
  {
   "cell_type": "markdown",
   "metadata": {},
   "source": [
    "**Метод Зейделя** можно записать в виде:\n",
    "$$ x^{m+1} = -D^{-1}A_1x^{m+1} -D^{-1}A_2x^m + D^{-1}f, $$\n",
    "или\n",
    "$$ \\left( D + A_1 \\right) x^{m+1} + A_2 x^m = f. $$"
   ]
  },
  {
   "cell_type": "markdown",
   "metadata": {},
   "source": [
    "Методы можно переписать соответственно:\n",
    "$$ \\begin{aligned}\n",
    "D \\left( x^{m+1} - x^m \\right) &+ A x^m = f, \\\\\n",
    "\\left( D + A_1 \\right) \\left( x^{m+1} - x^m \\right) &+ A x^m = f.\n",
    "\\end{aligned} $$"
   ]
  },
  {
   "cell_type": "markdown",
   "metadata": {},
   "source": [
    "### Канонический вид.\n",
    "\n",
    "$$ B_{n+1} \\frac{x_{n+1} - x_n}{\\tau_{n+1}} + Ax_n = f,$$\n",
    "где $det\\, B_n \\neq 0$, $\\tau_n$ - итерационный параметр."
   ]
  },
  {
   "cell_type": "markdown",
   "metadata": {},
   "source": [
    "**Метод простой итерации.**\n",
    "$$ \\frac{x_{n+1} - x_n}{\\tau} + Ax_n = f,$$\n",
    "где $\\tau$ - постоянный параметр."
   ]
  },
  {
   "cell_type": "markdown",
   "metadata": {},
   "source": [
    "**Итерационный метод Ричардсона.**\n",
    "$$ \\frac{x_{n+1} - x_n}{\\tau_{n+1}} + Ax_n = f,$$\n",
    "где $\\tau_{n+1}$ - переменный параметр."
   ]
  },
  {
   "cell_type": "markdown",
   "metadata": {},
   "source": [
    "Обобщение *метода Зейделя* - **метод верхней релаксации.**\n",
    "$$ \\left( D + \\omega A_1 \\right) \\frac{x_{n+1} - x_n}{\\omega} + Ax_n = f,$$\n",
    "где $\\omega > 0$ - заданный числовой параметр."
   ]
  }
 ],
 "metadata": {
  "anaconda-cloud": {},
  "kernelspec": {
   "display_name": "Python [default]",
   "language": "python",
   "name": "python3"
  },
  "language_info": {
   "codemirror_mode": {
    "name": "ipython",
    "version": 3
   },
   "file_extension": ".py",
   "mimetype": "text/x-python",
   "name": "python",
   "nbconvert_exporter": "python",
   "pygments_lexer": "ipython3",
   "version": "3.5.2"
  }
 },
 "nbformat": 4,
 "nbformat_minor": 1
}
