{
 "cells": [
  {
   "cell_type": "markdown",
   "metadata": {},
   "source": [
    "## Билет 2\n",
    "### Метод Гаусса с выбором главного элемента. Вычисление определителя."
   ]
  },
  {
   "cell_type": "code",
   "execution_count": 1,
   "metadata": {
    "collapsed": true
   },
   "outputs": [],
   "source": [
    "#подключим библиотеку для работы с \"матрицами\"\n",
    "import numpy as np"
   ]
  },
  {
   "cell_type": "markdown",
   "metadata": {},
   "source": [
    "Выбор главного элемента аналогичен выбору ведущего элемента по строке в билете №1 (в конце билета).\n",
    "Так как определитель приведенной треугольной системы $det\\, C = 1$, то определитель исходной системы равен:\n",
    "$$ \\Delta = det\\, A = (-1)^ka_{11}a_{22}^{(1)}\\ldots a_{nn}^{(n-1)}, $$\n",
    "где $k$ - число перестановок столбцов в процессе редукции матрицы $A$ к матрице $C$."
   ]
  },
  {
   "cell_type": "code",
   "execution_count": 2,
   "metadata": {
    "collapsed": true
   },
   "outputs": [],
   "source": [
    "def gauss_det(A):\n",
    "    k = 0\n",
    "    res = 1\n",
    "    for i in range(A.shape[0]):\n",
    "        #ищем максимальный ведущий элемент по строке\n",
    "        imax = np.argmax(np.abs(A[i, :A.shape[0]]))\n",
    "        if i != imax:\n",
    "            tmp = np.copy(A[:,i])\n",
    "            A[:,i] = A[:,imax]\n",
    "            A[:,imax] = tmp\n",
    "            k += 1\n",
    "        \n",
    "        res *= A[i][i]\n",
    "        \n",
    "        #делим уравнение и вычитаем его с коэффициентом из последующих уравнений\n",
    "        A[i][i:] /= A[i][i]\n",
    "        for j in range(i + 1, A.shape[0]):\n",
    "            A[j] -= A[j][i] * A[i]\n",
    "    \n",
    "    return (-1) ** k * res"
   ]
  },
  {
   "cell_type": "markdown",
   "metadata": {},
   "source": [
    "#### Пример:"
   ]
  },
  {
   "cell_type": "code",
   "execution_count": 3,
   "metadata": {
    "collapsed": false
   },
   "outputs": [
    {
     "data": {
      "text/plain": [
       "223.96625475839795"
      ]
     },
     "execution_count": 3,
     "metadata": {},
     "output_type": "execute_result"
    }
   ],
   "source": [
    "A = np.array(\n",
    "    [[1.2357, 2.1742, -5.4834],\n",
    "     [3.4873, 6.1365, -4.7483],\n",
    "     [6.0696, -6.2163, -4.6921]]\n",
    "    )\n",
    "gauss_det(A)"
   ]
  }
 ],
 "metadata": {
  "anaconda-cloud": {},
  "kernelspec": {
   "display_name": "Python [default]",
   "language": "python",
   "name": "python3"
  },
  "language_info": {
   "codemirror_mode": {
    "name": "ipython",
    "version": 3
   },
   "file_extension": ".py",
   "mimetype": "text/x-python",
   "name": "python",
   "nbconvert_exporter": "python",
   "pygments_lexer": "ipython3",
   "version": "3.5.2"
  }
 },
 "nbformat": 4,
 "nbformat_minor": 1
}
