{
 "cells": [
  {
   "cell_type": "markdown",
   "metadata": {},
   "source": [
    "## Билет 9.\n",
    "### Сходимость итерационных методов Якоби, верхней релаксации, простой итерации."
   ]
  },
  {
   "cell_type": "markdown",
   "metadata": {},
   "source": [
    "Рассмотрим следствия теоремы Самарского из билета 8."
   ]
  },
  {
   "cell_type": "markdown",
   "metadata": {},
   "source": [
    "**Теорема Самарского.** Пусть \n",
    "$$A = A^*,\\quad A > 0,$$\n",
    "$$B - \\frac{\\tau}{2} A > 0,\\quad \\tau > 0. $$\n",
    "\n",
    "Тогда при любом выборе нулевого приближения $x_0$\n",
    "$$B \\frac{x_{n+1} - x_n}{\\tau} + Ax_n = f$$\n",
    "сходится к решению исходной системы."
   ]
  },
  {
   "cell_type": "markdown",
   "metadata": {},
   "source": [
    "**Метод Якоби.**\n",
    "$$ D \\left( x^{m+1} - x^m \\right) + A x^m = f. $$"
   ]
  },
  {
   "cell_type": "markdown",
   "metadata": {},
   "source": [
    "*Следствие 1.*\n",
    "Пусть $A$ - симметричная положительно определенная матрица с диагональным преобладанием:\n",
    "$$ a_{ii} > \\sum_{j \\neq i}{\\left| a_{ij} \\right|},\\quad i = 1,\\ldots,m. $$\n",
    "Тогда метод Якоби сходится."
   ]
  },
  {
   "cell_type": "markdown",
   "metadata": {},
   "source": [
    "$\\blacktriangle$ Условие $B - \\frac{\\tau}{2}A > 0$ здесь имеет вид $A < 2D$. Докажем это."
   ]
  },
  {
   "cell_type": "markdown",
   "metadata": {},
   "source": [
    "Рассмотрим квадратичную форму\n",
    "$$ \\left( Ax, x \\right) = \\sum_{i, j=1}^m{a_{ij}x_ix_j}. $$"
   ]
  },
  {
   "cell_type": "markdown",
   "metadata": {},
   "source": [
    "Воспользуемся оценками\n",
    "\n",
    "P.S. Тут дальше идет магия, но это неравенство, подобное \n",
    "$$\\frac{x_1^2 + x_2^2}{2} > x_1x_2.$$"
   ]
  },
  {
   "cell_type": "markdown",
   "metadata": {},
   "source": [
    "$$ \\left( Ax, x \\right) \\leq\n",
    "\\frac{1}{2} \\sum_{i, j = 1}^m{\\left| a_{ij} \\right| x_i^2} +\n",
    "\\frac{1}{2} \\sum_{i, j = 1}^m{\\left| a_{ij} \\right| x_j^2} =\n",
    "\\frac{1}{2} \\sum_{i, j = 1}^m{\\left| a_{ij} \\right| x_i^2} +\n",
    "\\frac{1}{2} \\sum_{i, j = 1}^m{\\left| a_{ji} \\right| x_i^2} $$"
   ]
  },
  {
   "cell_type": "markdown",
   "metadata": {},
   "source": [
    "Из условий симметричности и положительной определенности матрицы $A$ имеем\n",
    "$$a_{ij} = a_{ji},\\; a_{ii} > 0,\\; i,j=1,\\ldots,m.$$"
   ]
  },
  {
   "cell_type": "markdown",
   "metadata": {},
   "source": [
    "Поэтому оценка сводится к\n",
    "$$ \\left( Ax, x \\right) \\leq\n",
    "\\sum_{i,j = 1}^m{ \\left| a_{ij} \\right| x_i^2}=\n",
    "\\sum_{i=1}^m{ x_i^2 \\left( \\sum_{j \\neq i}{ \\left| a_{ij} \\right|} + a_{ii} \\right)}. $$"
   ]
  },
  {
   "cell_type": "markdown",
   "metadata": {},
   "source": [
    "Условие диагонального преоббладания можно переписать в виде:\n",
    "$$ a_{ii} + \\sum_{j \\neq i} \\left| a_{ij} \\right| < 2a_{ii}.$$"
   ]
  },
  {
   "cell_type": "markdown",
   "metadata": {},
   "source": [
    "Учитывая это, оценка сводится к\n",
    "$$\\left( Ax, x \\right) <\n",
    "2\\sum_{i=1}^m{a_{ii}x_i^2} =\n",
    "2 \\left( Dx, x \\right).$$\n",
    "$\\blacksquare$"
   ]
  },
  {
   "cell_type": "markdown",
   "metadata": {},
   "source": [
    "**Метод верхней релаксации.**\n",
    "$$ \\left( D + \\omega A_1 \\right) \\frac{x_{n+1} - x_n}{\\omega} + Ax_n = f. $$"
   ]
  },
  {
   "cell_type": "markdown",
   "metadata": {},
   "source": [
    "*Следствие 2.* Пусть A - симметричная, положительно определенная матрица. Тогда метод релаксации сходится при условии $0 < \\omega < 2$. (В частности, метод Зейделя ($\\omega = 1$) сходится)"
   ]
  },
  {
   "cell_type": "markdown",
   "metadata": {},
   "source": [
    "$\\blacktriangle$ Здесь $B = D + \\omega A_1$, $\\tau = \\omega$."
   ]
  },
  {
   "cell_type": "markdown",
   "metadata": {},
   "source": [
    "Так как $A$ - симметричная, то $A_2 = A_1^T$. Поэтому\n",
    "$$ \\left( Ax, x \\right) =\n",
    "\\left( Dx, x \\right) + \\left( A_1x, x \\right) + \\left( A_2x, x \\right) =\n",
    "\\left( Dx, x \\right) + 2\\left( A_1x, x \\right). $$"
   ]
  },
  {
   "cell_type": "markdown",
   "metadata": {},
   "source": [
    "Условие сходимости принимает вид:\n",
    "$$\\left( \\left( B - \\frac{\\tau}{2}A \\right) x, x \\right) =\n",
    "\\left( \\left( D + \\omega A_1 \\right) x, x \\right) -\n",
    "\\frac{\\omega}{2} \\left( \\left( D + 2A_1 \\right) x, x \\right) =\n",
    "\\left( 1 - \\frac{\\omega}{2} \\right) \\left( Dx, x \\right) > 0 $$"
   ]
  },
  {
   "cell_type": "markdown",
   "metadata": {},
   "source": [
    "Очевидно, оно выполняется при $0 < \\omega < 2$. $\\blacksquare$"
   ]
  },
  {
   "cell_type": "markdown",
   "metadata": {},
   "source": [
    "**Метод простой итерации.**\n",
    "$$ \\frac{x_{n+1} - x_n}{\\tau} + Ax_n = f. $$"
   ]
  },
  {
   "cell_type": "markdown",
   "metadata": {},
   "source": [
    "*Следствие 3.*\n",
    "Пусть $A$ - симметричная, положительно определенная матрица. Тогда метод простой итерации сходится, если $ \\displaystyle \\tau < \\frac{2}{\\lambda_{\\text{max}}} $."
   ]
  },
  {
   "cell_type": "markdown",
   "metadata": {},
   "source": [
    "$\\blacktriangle$ Метод сходится при $E - \\frac{\\tau}{2} A > 0$."
   ]
  },
  {
   "cell_type": "markdown",
   "metadata": {},
   "source": [
    "Таким образом параметр $\\tau$ может изменяться в границах\n",
    "$$ 0 < \\tau < 2\\inf_{x \\neq \\theta}{\\frac{\\left(x,x\\right)}{\\left(Ax, x\\right)}}. $$"
   ]
  },
  {
   "cell_type": "markdown",
   "metadata": {},
   "source": [
    "Пусть $\\lambda_n \\geq \\ldots \\geq \\lambda_1 > 0$ - собственные значения матрицы $A$, $e_1, \\ldots, e_n$ - ОНБ из собственных векторов матрицы $A$, тогда для вектора $x = \\xi_1e_1 + \\ldots \\xi_ne_n$\n",
    "$$ \\left( x, x \\right) = \\xi_1^2 + \\ldots + \\xi_n^2, $$\n",
    "$$ \\left( Ax, x \\right) = \\lambda_1\\xi_1^2 + \\ldots + \\lambda_n\\xi_n^2. $$"
   ]
  },
  {
   "cell_type": "markdown",
   "metadata": {},
   "source": [
    "Таким образом\n",
    "$$ \\inf_{x \\neq \\theta}{\\frac{\\xi_1^2 + \\ldots + \\xi_n^2}{\\lambda_1\\xi_1^2 + \\ldots + \\lambda_n\\xi_n^2}} =\n",
    "\\frac{1}{\\lambda_1} = \\frac{1}{\\lambda_{\\text{max}}}.$$"
   ]
  },
  {
   "cell_type": "markdown",
   "metadata": {},
   "source": [
    "Таким образом метод сходится при\n",
    "$$\\tau < \\frac{2}{\\lambda_{\\text{max}}}. $$\n",
    "$\\blacksquare$"
   ]
  }
 ],
 "metadata": {
  "anaconda-cloud": {},
  "kernelspec": {
   "display_name": "Python [default]",
   "language": "python",
   "name": "python3"
  },
  "language_info": {
   "codemirror_mode": {
    "name": "ipython",
    "version": 3
   },
   "file_extension": ".py",
   "mimetype": "text/x-python",
   "name": "python",
   "nbconvert_exporter": "python",
   "pygments_lexer": "ipython3",
   "version": "3.5.2"
  }
 },
 "nbformat": 4,
 "nbformat_minor": 1
}
