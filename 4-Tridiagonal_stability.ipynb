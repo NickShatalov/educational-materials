{
 "cells": [
  {
   "cell_type": "markdown",
   "metadata": {},
   "source": [
    "### Билет 4\n",
    "#### Устойчивость метода прогонки."
   ]
  },
  {
   "cell_type": "markdown",
   "metadata": {},
   "source": [
    "Зачастую на практике в СЛАУ с трехдиагональной матрицей, ее коэффициенты удовлетворяют неравенствам:\n",
    "$$ \\left| C_i \\right| > \\left| A_i \\right| + \\left| B_i \\right|, $$\n",
    "которые выражают свойство диагонального преобладания.\n",
    "\n",
    "По теореме (из прошлого билета) такие системы всегда разрешимы единственным образом.\n",
    "\n",
    "**Лемма.** Если для системы с трехдиагональной матрицей выполняется диагональное преобладание, то прогоночные коэффициенты удовлетворяют неравенствам\n",
    "$$ \\left| \\alpha_i \\right| \\leq 1. $$\n",
    "\n",
    "$\\blacktriangle$ По индукции:\n",
    "\n",
    "При $i = 1$: $\\alpha_1 = 0$ $\\Rightarrow$ удтверждение леммы верно.\n",
    "\n",
    "Пусть оно верно для $\\alpha_i$ и рассмотрим $\\alpha_{i+1}$:\n",
    "$$\n",
    "\\left| \\alpha_{i+1} \\right| =\n",
    "\\left| \\frac{B_i}{A_i\\alpha_i + C_i} \\right| \\leq\n",
    "\\frac{\\left| B_i \\right|}{\\left| C_i \\right| - \\left| A_i \\right|} \\leq 1.\n",
    "$$\n",
    "$\\blacksquare$\n",
    "\n",
    "Неравенство для прогоночных элементов делает прогонку устойчивой. Если компонента решения $x_i$ была расчитана с некоторой ошибкой округления, то при вычислении $x_{i-1} = \\alpha_ix_i + \\beta_i$ ошибка не будет нарастать."
   ]
  }
 ],
 "metadata": {
  "anaconda-cloud": {},
  "kernelspec": {
   "display_name": "Python [default]",
   "language": "python",
   "name": "python3"
  },
  "language_info": {
   "codemirror_mode": {
    "name": "ipython",
    "version": 3
   },
   "file_extension": ".py",
   "mimetype": "text/x-python",
   "name": "python",
   "nbconvert_exporter": "python",
   "pygments_lexer": "ipython3",
   "version": "3.5.2"
  }
 },
 "nbformat": 4,
 "nbformat_minor": 1
}
