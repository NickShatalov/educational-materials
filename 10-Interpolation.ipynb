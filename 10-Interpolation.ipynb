{
 "cells": [
  {
   "cell_type": "markdown",
   "metadata": {},
   "source": [
    "## Билет 10.\n",
    "### Интерполирование алгебраическими многочленами. Интерполяционная формула Лагранжа."
   ]
  },
  {
   "cell_type": "markdown",
   "metadata": {},
   "source": [
    "#### Задача интерполирования."
   ]
  },
  {
   "cell_type": "markdown",
   "metadata": {},
   "source": [
    "Заданы *узлы интерполяции*\n",
    "$$ a \\leq x_0 < x_1 < \\dots < x_i < x_{i+1} < \\ldots < x_n \\leq b. $$"
   ]
  },
  {
   "cell_type": "markdown",
   "metadata": {},
   "source": [
    "Найдем функцию $F(x)$, приближенную к $f(x)$.\n",
    "\n",
    "Выберем систему функций $\\varphi_0(x), \\ldots, \\varphi_n(x)$, заданных на $[a, b]$. Будем строить $F(x)$ как их линейную комбинацию\n",
    "$$ F(x) = \\sum_{i = 0}^n{c_i\\varphi_i(x)}, $$\n",
    "где $c_i,\\; i=0,\\ldots,n$ определяются из условий\n",
    "$$ F(x_i) = f(x_i),\\quad i=0,\\ldots,n. $$"
   ]
  },
  {
   "cell_type": "markdown",
   "metadata": {},
   "source": [
    "Это задает СЛАУ относительно коэффициентов $c_i$."
   ]
  },
  {
   "cell_type": "markdown",
   "metadata": {},
   "source": [
    "**Определение.** Система функций $\\varphi_i(x),\\; 1,\\ldots,n$, удовлетворяющая при фиксированных значениях $x_i$ условию\n",
    "$$ \\Delta = \n",
    "\\begin{vmatrix}\n",
    "\\varphi_0(x_0) & \\ldots & \\varphi_0(x_n) \\\\\n",
    "\\vdots & \\ddots & \\vdots \\\\\n",
    "\\varphi_n(x_0) & \\ldots & \\varphi_n(x_n)\n",
    "\\end{vmatrix} \\neq 0\n",
    "$$\n",
    "называется *чебышевской*."
   ]
  },
  {
   "cell_type": "markdown",
   "metadata": {},
   "source": [
    "#### Интерполирование полиномами."
   ]
  },
  {
   "cell_type": "markdown",
   "metadata": {},
   "source": [
    "$$ F(x) = P_n(x) = \\sum_{i=0}^n{c_ix^i}. $$"
   ]
  },
  {
   "cell_type": "markdown",
   "metadata": {},
   "source": [
    "Определитель Вандермонда:\n",
    "$$ \\Delta = \\prod_{i > j} {(x_i - x_j)} \\neq 0.$$"
   ]
  },
  {
   "cell_type": "markdown",
   "metadata": {},
   "source": [
    "#### Интерполяционная формула Лагранжа."
   ]
  },
  {
   "cell_type": "markdown",
   "metadata": {},
   "source": [
    "Представим искомый полином в виде\n",
    "$$ P_n(x) = \\sum_{i=0}^n{f(x_i)Q_{n,i}(x)}, $$\n",
    "где $Q_{n,i}(x)$ - полиномы степени $n$:\n",
    "$$ Q_{n,i}(x) =\n",
    "\\begin{cases}\n",
    "0, & x=x_j,\\; j \\neq i \\\\\n",
    "1, & x=x_i.\n",
    "\\end{cases} $$"
   ]
  },
  {
   "cell_type": "markdown",
   "metadata": {},
   "source": [
    "Такие полиномы легко построить:\n",
    "$$ Q_{n,i}(x) = \\prod_{\\substack{j = 0 \\\\ j \\neq i}}^{j = n} {\n",
    "\\frac{\\left( x - x_j \\right)}{\\left( x_i - x_j \\right)}}.$$"
   ]
  }
 ],
 "metadata": {
  "kernelspec": {
   "display_name": "Python [default]",
   "language": "python",
   "name": "python3"
  },
  "language_info": {
   "codemirror_mode": {
    "name": "ipython",
    "version": 3
   },
   "file_extension": ".py",
   "mimetype": "text/x-python",
   "name": "python",
   "nbconvert_exporter": "python",
   "pygments_lexer": "ipython3",
   "version": "3.5.2"
  }
 },
 "nbformat": 4,
 "nbformat_minor": 1
}
