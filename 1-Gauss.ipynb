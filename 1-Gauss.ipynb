{
 "cells": [
  {
   "cell_type": "markdown",
   "metadata": {},
   "source": [
    "## Билет 1\n",
    "### Решение систем линейных алгебраических уравнений методом Гаусса: расчетные формулы, подсчет числа действий."
   ]
  },
  {
   "cell_type": "code",
   "execution_count": 1,
   "metadata": {
    "collapsed": true
   },
   "outputs": [],
   "source": [
    "#подключим библиотеку для работы с \"матрицами\"\n",
    "import numpy as np"
   ]
  },
  {
   "cell_type": "markdown",
   "metadata": {},
   "source": [
    "Метод Гаусса применяется для решения СЛАУ, в которых число уравнений равно числу неизвестных:\n",
    "$$\\sum_{j=1}^n{ a_{ij}x_j = f_i},\\; i = 1,2,\\ldots,n.$$\n",
    "Или, в матричном виде:\n",
    "$$Ax=f,\\;A \\in \\mathbb{R}^{n \\times n},\\; det\\,A \\not = 0$$\n",
    "\n",
    "Заметим, если $det \\, A = 0 \\Rightarrow \\not\\exists!$ решение. (вспоминаем первый семестр линала)\n",
    "\n",
    "Метод Гаусса делится на два этапа:\n",
    "1) прямой ход (forward elimination)\n",
    "2) обратный ход (back substitution).\n",
    "\n",
    "#### 1) Прямой ход.\n",
    "\n",
    "Приведём матрицу $A$ к треугольному виду.\n",
    "Пусть $a_{11} \\not = 0$ (иначе поменяем местами строки с номерами $1$ и $i$, при котором $a_{i1} \\not = 0$; поскольку $det\\, A \\not = 0$, такой номер $i$ заведомо найдется.\n",
    "Разделим все члены первого уравнения на $a_{11}$:\n",
    "$$c_{12}=\\frac{a_{12}}{a_{11}},\\;\\ldots ,\\; c_{1n}=\\frac{a_{1n}}{a_{11}},\\; y_1=\\frac{f_1}{a_{11}}$$\n",
    "и вычтем из каждого $i$-го уравнения системы ($i=2,\\ldots,n$) преобразованное первое уравнение, умноженное на $a_{i1}$.\n",
    "\n",
    "Преобразованная таким образом система примет вид:\n",
    "$$ \n",
    "\\begin{bmatrix}\n",
    "    1 & c_{12}       & \\ldots & c_{1n}       \\\\\n",
    "    0 & a_{22}^{(1)} & \\ldots & a_{2n}^{(1)} \\\\\n",
    "    \\vdots & \\vdots  & \\ddots & \\vdots \\\\\n",
    "    0 & a_{n2}^{(1)} & \\ldots & a_{2n}^{(1)}\n",
    "\\end{bmatrix}\n",
    "\\begin{bmatrix}\n",
    "    x_1 \\\\\n",
    "    x_2 \\\\\n",
    "    \\vdots \\\\\n",
    "    x_n \n",
    "\\end{bmatrix} =\n",
    "\\begin{bmatrix}\n",
    "    y_1 \\\\\n",
    "    f_2^{(1)} \\\\\n",
    "    \\vdots \\\\\n",
    "    f_n^{(1)}\n",
    "\\end{bmatrix} \n",
    "$$\n",
    "\n",
    "Заметим, переменная $x_1$ исключилась из всех уравнений, кроме первого.\n",
    "Проделаем аналогичные шаги для \"укороченной\" системы, содержащей (n-1) уравнений (из всех уравнений, кроме первого).\n",
    "\n",
    "Продолжая процесс перейдем к системе:\n",
    "$$ \n",
    "\\begin{bmatrix}\n",
    "    1 & c_{12} & c_{13} & \\ldots & c_{1n} \\\\\n",
    "    0 & 1      & c_{23} & \\ldots & c_{2n} \\\\\n",
    "    \\vdots & \\vdots & \\vdots & \\ddots & \\vdots \\\\\n",
    "    0 & 0      & 0      & \\ldots & 1\n",
    "\\end{bmatrix}\n",
    "\\begin{bmatrix}\n",
    "    x_1 \\\\\n",
    "    x_2 \\\\\n",
    "    \\vdots \\\\\n",
    "    x_n \n",
    "\\end{bmatrix} =\n",
    "\\begin{bmatrix}\n",
    "    y_1 \\\\\n",
    "    y_2 \\\\\n",
    "    \\vdots \\\\\n",
    "    y_3\n",
    "\\end{bmatrix}\n",
    "$$"
   ]
  },
  {
   "cell_type": "code",
   "execution_count": 2,
   "metadata": {
    "collapsed": false
   },
   "outputs": [],
   "source": [
    "'''\n",
    "В качестве параметра передаем матрицу [A|f]\n",
    "'''\n",
    "def forward_elimintaion(A):\n",
    "    #ищем ненулевой ведущий элемент\n",
    "    if A[0][0] == 0:\n",
    "        for i in range(1, A.shape[0]):\n",
    "            if A[i][0] != 0:\n",
    "                break\n",
    "        tmp = np.copy(A[0])\n",
    "        A[0] = A[i]\n",
    "        A[i] = tmp\n",
    "    \n",
    "    #делим первое уравнение и вычитаем его с коэффициентом из последующих уравнений\n",
    "    A[0][0:] /= A[0][0]\n",
    "    for i in range(1, A.shape[0]):\n",
    "        A[i] -= A[i][0] * A[0]\n",
    "    \n",
    "    #повторяем те же действия для подматрицы\n",
    "    if A.shape[0] > 1:\n",
    "        forward_elimintaion(A[1:, 1:])"
   ]
  },
  {
   "cell_type": "markdown",
   "metadata": {},
   "source": [
    "#### 2) Обратный ход.\n",
    "\n",
    "Ищем корни СЛАУ.\n",
    "Последовательно определяем неизвестные в обратном порядке:\n",
    "$$\n",
    "\\begin{aligned}\n",
    "x_n &= y_n \\\\\n",
    "x_{n-1} &= y_{n-1} - c_{n-1,n}x_n \\\\\n",
    "\\cdots\\\\\n",
    "x_1 &= y_1 - c_{12}x_2 - \\ldots - c_{1n}x_n\n",
    "\\end{aligned}\n",
    "$$"
   ]
  },
  {
   "cell_type": "code",
   "execution_count": 3,
   "metadata": {
    "collapsed": true
   },
   "outputs": [],
   "source": [
    "def back_substitution(A):\n",
    "    ans = np.empty(A.shape[0])\n",
    "    for i in range(A.shape[0] - 1, -1, -1):\n",
    "        y_i = A[i][A.shape[1] - 1]\n",
    "        C = A[i][i+1:A.shape[1]-1]\n",
    "        ans[i] = y_i - (C*ans[i+1:]).sum()\n",
    "    return ans"
   ]
  },
  {
   "cell_type": "markdown",
   "metadata": {},
   "source": [
    "#### Пример:"
   ]
  },
  {
   "cell_type": "code",
   "execution_count": 4,
   "metadata": {
    "collapsed": false
   },
   "outputs": [],
   "source": [
    "A = np.array(\n",
    "    [[1.2357, 2.1742, -5.4834],\n",
    "     [3.4873, 6.1365, -4.7483],\n",
    "     [6.0696, -6.2163, -4.6921]]\n",
    "    )\n",
    "f = np.array([-2.0735, 4.8755, -4.8388])\n",
    "f.shape = (f.shape[0], 1)\n",
    "A = np.hstack((A, f)) #прикрепляем к матрице A вектор-столбец f ([A|f])"
   ]
  },
  {
   "cell_type": "code",
   "execution_count": 5,
   "metadata": {
    "collapsed": false
   },
   "outputs": [
    {
     "name": "stdout",
     "output_type": "stream",
     "text": [
      "[[  1.00000000e+00   1.75948855e+00  -4.43748483e+00  -1.67799628e+00]\n",
      " [  0.00000000e+00   1.00000000e+00   1.68766938e+04   1.68776938e+04]\n",
      " [  0.00000000e+00   0.00000000e+00   1.00000000e+00   1.00000000e+00]]\n"
     ]
    }
   ],
   "source": [
    "forward_elimintaion(A)\n",
    "print(A)"
   ]
  },
  {
   "cell_type": "code",
   "execution_count": 6,
   "metadata": {
    "collapsed": false
   },
   "outputs": [
    {
     "name": "stdout",
     "output_type": "stream",
     "text": [
      "[ 1.  1.  1.]\n"
     ]
    }
   ],
   "source": [
    "print(back_substitution(A))"
   ]
  },
  {
   "cell_type": "markdown",
   "metadata": {},
   "source": [
    "Заметим, при $\\bigl|c_{ij}\\bigr| > 1 $ во время обратного хода умножение найденных с ошибками округления чисел $x_i$ на большие по модулю $c_{ij}$ приведет к увеличению этих ошибок.\n",
    "Наоборот, если матрица $C$ оказалась такой, что:\n",
    "$$ \\left|c_{ij}\\right| \\leq 1,  $$\n",
    "то роль ошибок округления нивелируется.\n",
    "\n",
    "Такого условия можно добиться, выбирая на каждом шаге НАИБОЛЬШИЙ ПО МОДУЛЮ ненулевой ведущий элемент по столбцам.\n",
    "(Тогда $\\left|c_{ij}\\right| = \\displaystyle\\left|\\frac{a_{ij}}{\\max_\\limits{1 \\leq j \\leq n}{\\left|a_{ij}\\right|}}\\right| \\leq 1$)\n",
    "Порядок корней в таком случае может измениться."
   ]
  },
  {
   "cell_type": "code",
   "execution_count": 7,
   "metadata": {
    "collapsed": false
   },
   "outputs": [],
   "source": [
    "'''\n",
    "Чтобы контролировать порядок корней, будем возвращать массив индексов\n",
    "'''\n",
    "def improved_forward_elimination(A):\n",
    "    ind = np.arange(A.shape[0], dtype=int) #массив индексов корней\n",
    "    \n",
    "    for i in range(A.shape[0]):\n",
    "        #ищем максимальный ведущий элемент по строке\n",
    "        imax = np.argmax(np.abs(A[i, :A.shape[0]]))\n",
    "        A[i][i], A[i][imax] = A[i][imax], A[i][i]\n",
    "        ind[i], ind[imax] = ind[imax], ind[i]\n",
    "        \n",
    "        #делим уравнение и вычитаем его с коэффициентом из последующих уравнений\n",
    "        A[i][i:] /= A[i][i]\n",
    "        for j in range(i + 1, A.shape[0]):\n",
    "            A[j] -= A[j][i] * A[i]\n",
    "    \n",
    "    return ind"
   ]
  },
  {
   "cell_type": "markdown",
   "metadata": {},
   "source": [
    "#### Пример:"
   ]
  },
  {
   "cell_type": "code",
   "execution_count": 8,
   "metadata": {
    "collapsed": false
   },
   "outputs": [],
   "source": [
    "A = np.array(\n",
    "    [[1.2357, 2.1742, -5.4834],\n",
    "     [3.4873, 6.1365, -4.7483],\n",
    "     [6.0696, -6.2163, -4.6921]]\n",
    "    )\n",
    "f = np.array([-2.0735, 4.8755, -4.8388])\n",
    "f.shape = (f.shape[0], 1)\n",
    "A = np.hstack((A, f)) #прикрепляем к матрице A вектор-столбец f ([A|f])"
   ]
  },
  {
   "cell_type": "code",
   "execution_count": 9,
   "metadata": {
    "collapsed": false
   },
   "outputs": [
    {
     "name": "stdout",
     "output_type": "stream",
     "text": [
      "[[ 1.         -0.39650582 -0.22535288  0.3781413 ]\n",
      " [ 0.          1.         -0.5269721   0.4730279 ]\n",
      " [ 0.          0.          1.          1.        ]]\n"
     ]
    }
   ],
   "source": [
    "ind = improved_forward_elimination(A)\n",
    "print(A)"
   ]
  },
  {
   "cell_type": "code",
   "execution_count": 10,
   "metadata": {
    "collapsed": false
   },
   "outputs": [
    {
     "name": "stdout",
     "output_type": "stream",
     "text": [
      "[ 1.  1.  1.]\n"
     ]
    }
   ],
   "source": [
    "print((back_substitution(A))[ind])"
   ]
  },
  {
   "cell_type": "markdown",
   "metadata": {},
   "source": [
    "### Подсчет числа действий\n",
    "1) Прямой ход\n",
    "\n",
    "Количество делений:\n",
    "$$ Q_1 = n + (n-1) + \\cdots + 1 = \\frac{1}{2}n(n+1). $$\n",
    "Количество сложений и умножений (не в сумме!):\n",
    "$$ Q_2 = n(n-1) + (n-1)(n-2) + \\cdots + 2 \\cdot 1 = \\frac{1}{3}n(n^2-1). $$\n",
    "\n",
    "2) Обратный ход\n",
    "Количество сложений и умножений (не в сумме!):\n",
    "$$ Q_3 = 1 + 2 + \\cdots + (n-1) = \\frac{1}{2}n(n-1). $$\n",
    "\n",
    "Таким образом общее число сложений и делений:\n",
    "$$ Q_2 + Q_3 = \\frac{1}{3}n(n-1)(n+\\frac{5}{2}) = \\frac{1}{3}n^3 + O(n^2) = O(n^3) $$\n",
    "\n",
    "В принципе, норм"
   ]
  }
 ],
 "metadata": {
  "anaconda-cloud": {},
  "kernelspec": {
   "display_name": "Python [default]",
   "language": "python",
   "name": "python3"
  },
  "language_info": {
   "codemirror_mode": {
    "name": "ipython",
    "version": 3
   },
   "file_extension": ".py",
   "mimetype": "text/x-python",
   "name": "python",
   "nbconvert_exporter": "python",
   "pygments_lexer": "ipython3",
   "version": "3.5.2"
  }
 },
 "nbformat": 4,
 "nbformat_minor": 1
}
