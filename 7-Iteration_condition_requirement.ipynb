{
 "cells": [
  {
   "cell_type": "markdown",
   "metadata": {},
   "source": [
    "## Билет 7\n",
    "### Необходимое условие сходимости итерационных методов."
   ]
  },
  {
   "cell_type": "markdown",
   "metadata": {},
   "source": [
    "**Теорема.**\n",
    "Итерационный метод $\\displaystyle B \\frac{x_{n+1} - x_n}{\\tau} + Ax_n = f$ сходится при любом начальном приближении $\\Leftrightarrow$ все собственные значения матрицы $S = E - \\tau B^{-1}A$ по модулю меньше единицы."
   ]
  },
  {
   "cell_type": "markdown",
   "metadata": {},
   "source": [
    "$\\blacktriangle$ Представим уравнение для погрешности $v_n = x_n - x$:\n",
    "$$ B \\frac{v_{n+1} - v_n}{\\tau} + Av_n = 0. $$"
   ]
  },
  {
   "cell_type": "markdown",
   "metadata": {},
   "source": [
    "Достаточно доказать: $v_n \\rightarrow 0$ при $n \\rightarrow \\infty.$"
   ]
  },
  {
   "cell_type": "markdown",
   "metadata": {},
   "source": [
    "Перепишем уравнение:\n",
    "$$ v_{n+1} = Sv_n, $$\n",
    "где $S = E - \\tau B^{-1}A. $"
   ]
  },
  {
   "cell_type": "markdown",
   "metadata": {},
   "source": [
    "**Необходимость.** От противного:\n",
    "\n",
    "Пусть $S$ имеет собственное значение $s: s > 1$."
   ]
  },
  {
   "cell_type": "markdown",
   "metadata": {},
   "source": [
    "Покажем, что можно подобрать начальное приближение $x_0$ так, чтобы $v_n \\rightarrow \\infty$ при $n \\rightarrow \\infty$."
   ]
  },
  {
   "cell_type": "markdown",
   "metadata": {},
   "source": [
    "Пусть $\\mu$ - собственный вектор $S$, отвечающий собственному значению $s$.\n",
    "\n",
    "Возьмем $x_0 = x + \\mu$, тогда $v_0 = \\mu$."
   ]
  },
  {
   "cell_type": "markdown",
   "metadata": {},
   "source": [
    "$$v_{n+1} = Sv_n \\quad\\Rightarrow\\quad v_n = S^nv_0 = S^n\\left( x_0 - x \\right) = S^n\\mu = s^n\\mu.$$"
   ]
  },
  {
   "cell_type": "markdown",
   "metadata": {},
   "source": [
    "$$ \\|v_n\\| = |s|^n \\| \\mu \\| \\rightarrow \\infty \\; \\text{при} \\; \n",
    "n \\rightarrow \\infty.$$"
   ]
  },
  {
   "cell_type": "markdown",
   "metadata": {},
   "source": [
    "Если $|s| = 1$, то $\\|v_n\\| = \\| \\mu \\| \\nrightarrow 0$, при $n \\rightarrow \\infty$."
   ]
  },
  {
   "cell_type": "markdown",
   "metadata": {},
   "source": [
    "**Достаточность.**\n",
    "\n",
    "Пусть $S$ имеет $m$ ЛНЗ собственных векторов.\n",
    "\n",
    "Пусть $s_k,\\quad k = 1,\\ldots m$ - собственные числа $S$, $\\{\\mu_k\\}$ - отвечающие им ЛНЗ собственные векторы."
   ]
  },
  {
   "cell_type": "markdown",
   "metadata": {},
   "source": [
    "В этом базисе погрешность $v_0$:\n",
    "$$ v_0 = \\sum_{i=1}^m{c_i\\mu_i}. $$"
   ]
  },
  {
   "cell_type": "markdown",
   "metadata": {},
   "source": [
    "Тогда\n",
    "$$ v_n = S^nv_0 = \\sum_{i=1}^n{c_i s_i^n \\mu_i}. $$"
   ]
  },
  {
   "cell_type": "markdown",
   "metadata": {},
   "source": [
    "$$ \\|v_n\\| \\leq |s_{\\text{max}}|^n \\sum_{i=1}^n{|c_i|\\| \\mu_i \\|}. $$"
   ]
  },
  {
   "cell_type": "markdown",
   "metadata": {},
   "source": [
    "Из условия теоремы $|s_{\\text{max}}| < 1$. Отсюда следует сходимость метода. ($\\|v_n\\| \\rightarrow 0$ при $n \\rightarrow 0$) \n",
    "\n",
    "$\\blacksquare$"
   ]
  },
  {
   "cell_type": "markdown",
   "metadata": {},
   "source": [
    "P.S. В общем случае, когда система собственных векторов не является полной, доказательство проводится с помощью приведения $S$ к жордановой форме. (Смотри в учебнике Самарского)"
   ]
  }
 ],
 "metadata": {
  "anaconda-cloud": {},
  "kernelspec": {
   "display_name": "Python [default]",
   "language": "python",
   "name": "python3"
  },
  "language_info": {
   "codemirror_mode": {
    "name": "ipython",
    "version": 3
   },
   "file_extension": ".py",
   "mimetype": "text/x-python",
   "name": "python",
   "nbconvert_exporter": "python",
   "pygments_lexer": "ipython3",
   "version": "3.5.2"
  }
 },
 "nbformat": 4,
 "nbformat_minor": 1
}
