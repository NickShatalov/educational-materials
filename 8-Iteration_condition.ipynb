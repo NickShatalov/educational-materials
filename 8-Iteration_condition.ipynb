{
 "cells": [
  {
   "cell_type": "markdown",
   "metadata": {},
   "source": [
    "## Билет 8\n",
    "### Теорема о достаточных условиях сходимости итерационного метода."
   ]
  },
  {
   "cell_type": "markdown",
   "metadata": {},
   "source": [
    "**Определение.** Оператор $A$ называется *самосопряженным* ($A = A^*$), если\n",
    "$$ \\left( Ax, y \\right) = \\left( x, Ay \\right),\\quad \\forall x, y \\in E_n.$$"
   ]
  },
  {
   "cell_type": "markdown",
   "metadata": {},
   "source": [
    "Свойства самосопряженного оператора:\n",
    "1. Все собственные значения - вещественны.\n",
    "2. Самосопряженный оператор всегда имеет полный набор ЛНЗ собственных векторов."
   ]
  },
  {
   "cell_type": "markdown",
   "metadata": {},
   "source": [
    "**Определение.** $A$ - *положительно определенный* ($A > 0$), если\n",
    "$$ \\left(Ax, x\\right) > 0,\\; \\forall x \\in E_n,\\; x \\neq \\theta. $$"
   ]
  },
  {
   "cell_type": "markdown",
   "metadata": {},
   "source": [
    "**Лемма 1.** Пусть $A = A^*$. Тогда\n",
    "$$A > 0 \\Leftrightarrow \\lambda_i > 0,$$\n",
    "где $\\lambda_i$ - собственные значения $A$."
   ]
  },
  {
   "cell_type": "markdown",
   "metadata": {},
   "source": [
    "**Лемма 2.** Пусть $A = A^* > 0$ и $\\lambda_1 \\geq \\lambda_2 \\geq \\ldots \\geq \\lambda_n > 0$.\n",
    "Тогда\n",
    "$$ \\lambda_n \\|x\\|^2 \\leq \\left( Ax, x \\right) \\leq \\lambda_1 \\|x\\|^2. $$"
   ]
  },
  {
   "cell_type": "markdown",
   "metadata": {},
   "source": [
    "**Лемма 3.** Пусть $A > 0$. Тогда $\\exists \\delta > 0:$\n",
    "$$ \\left( Ax, x \\right) \\geq \\delta \\|x\\|^2,\\; \\forall x \\in E_n. $$"
   ]
  },
  {
   "cell_type": "markdown",
   "metadata": {},
   "source": [
    "**Теорема Самарского.** Пусть \n",
    "$$A = A^*,\\quad A > 0,$$\n",
    "$$B - \\frac{\\tau}{2} A > 0,\\quad \\tau > 0. $$\n",
    "\n",
    "Тогда при любом выборе нулевого приближения $x_0$\n",
    "$$B \\frac{x_{n+1} - x-n}{\\tau} + Ax_n = f$$\n",
    "сходится к решению исходной системы."
   ]
  },
  {
   "cell_type": "markdown",
   "metadata": {},
   "source": [
    "$\\blacktriangle$ Заметим, $B - \\frac{\\tau}{2}A > 0$ можно переписать:\n",
    "$$ \\left( Bx, x \\right) > \\frac{\\tau}{2} \\left( Ax, x \\right) > 0,\\;\n",
    "\\forall x \\in E_n,\\; x \\neq 0 $$\n",
    "Поэтому $B > 0$."
   ]
  },
  {
   "cell_type": "markdown",
   "metadata": {},
   "source": [
    "Выразим $x_k$ через $z_k$ (погрешность):\n",
    "$$ x_k = z_k + x. $$"
   ]
  },
  {
   "cell_type": "markdown",
   "metadata": {},
   "source": [
    "И подставим в реккурентную формулу:\n",
    "$$ B \\frac{z_{k+1} - z_k}{\\tau} + Az_k = 0. $$"
   ]
  },
  {
   "cell_type": "markdown",
   "metadata": {},
   "source": [
    "Так как $B > 0 \\Rightarrow \\exists B^{-1}$ и можно записать:\n",
    "$$ z_{k+1} = z_k - \\tau B^{-1} A z_k. = z_k - \\tau\\omega_k, $$\n",
    "где $\\omega_k = B^{-1} A z_k \\;\\Rightarrow\\; B \\omega_k = Az_k$."
   ]
  },
  {
   "cell_type": "markdown",
   "metadata": {},
   "source": [
    "**Рассмотрим** посследовательность положительных функционалов \n",
    "$$ J_k = \\left( Az_k, z_k \\right). $$"
   ]
  },
  {
   "cell_type": "markdown",
   "metadata": {},
   "source": [
    "$$ J_{k+1} = \n",
    "\\left( Az_k - \\tau A \\omega_k, z_k - \\tau \\omega_k \\right) = \n",
    "\\left( Az_k, z_k \\right) -\n",
    "\\tau \\left( A \\omega_k, z_k \\right) -\n",
    "\\tau \\left( Az_k, \\omega_k \\right) +\n",
    "\\tau^2 \\left( A \\omega_k, \\omega_k \\right).\n",
    "$$"
   ]
  },
  {
   "cell_type": "markdown",
   "metadata": {},
   "source": [
    "Из самосопряженности $A$:\n",
    "$$ \\left( A\\omega_k, z_k \\right) =\n",
    "\\left( Az_k, \\omega_k \\right) =\n",
    "\\left( B\\omega_k, \\omega_k \\right). $$"
   ]
  },
  {
   "cell_type": "markdown",
   "metadata": {},
   "source": [
    "Таким образом:\n",
    "$$ J_{k+1} =\n",
    "J_k - 2\\tau \\left( B \\omega_k, \\omega_k \\right) + \\tau^2 \\left( A \\omega_k, \\omega_k \\right) =\n",
    "J_k - 2\\tau \\left( \\left( B - \\frac{A}{2} \\right) \\omega_k, \\omega_k \\right).$$"
   ]
  },
  {
   "cell_type": "markdown",
   "metadata": {},
   "source": [
    "Так как $(B - \\frac{A}{2}) > 0$, то $\\{J_k\\}$ - монотонно невозрастающая посследовательность, ограниченная снизу нулём, поэтому сходится."
   ]
  },
  {
   "cell_type": "markdown",
   "metadata": {},
   "source": [
    "По лемме 3\n",
    "$$ \\left( \\left( B - \\frac{A}{2} \\right) \\omega_k, \\omega_k \\right) \\geq\n",
    "\\delta \\|\\omega_k\\|^2, $$\n",
    "где $\\delta > 0$ - const."
   ]
  },
  {
   "cell_type": "markdown",
   "metadata": {},
   "source": [
    "В результате\n",
    "$$ J_{k+1} - J_k =\n",
    "2\\tau \\left( \\left( B - \\frac{A}{2} \\right) \\omega_k, \\omega_k \\right) \\geq\n",
    "2\\tau \\delta \\|\\omega_k\\|^2. $$"
   ]
  },
  {
   "cell_type": "markdown",
   "metadata": {},
   "source": [
    "Так как $J_{k+1} - J_k \\rightarrow 0$, то $\\|\\omega_k\\| \\rightarrow 0$ при $k \\rightarrow 0$."
   ]
  },
  {
   "cell_type": "markdown",
   "metadata": {},
   "source": [
    "Так как $z_k = A^{-1}B\\omega_k$, то\n",
    "$$\\|z_k\\| \\leq \\|A^{-1}\\| \\|B\\| \\| \\omega_k \\| \\rightarrow 0. $$"
   ]
  },
  {
   "cell_type": "markdown",
   "metadata": {},
   "source": [
    "Отсюда итерационный метод сходится. $\\blacksquare$"
   ]
  }
 ],
 "metadata": {
  "anaconda-cloud": {},
  "kernelspec": {
   "display_name": "Python [default]",
   "language": "python",
   "name": "python3"
  },
  "language_info": {
   "codemirror_mode": {
    "name": "ipython",
    "version": 3
   },
   "file_extension": ".py",
   "mimetype": "text/x-python",
   "name": "python",
   "nbconvert_exporter": "python",
   "pygments_lexer": "ipython3",
   "version": "3.5.2"
  }
 },
 "nbformat": 4,
 "nbformat_minor": 1
}
