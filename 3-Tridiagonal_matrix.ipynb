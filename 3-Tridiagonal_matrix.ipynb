{
 "cells": [
  {
   "cell_type": "markdown",
   "metadata": {},
   "source": [
    "## Билет 3\n",
    "### Решение систем линейных алгебраических уравнений с трехдиагональной матрицей методом прогонки."
   ]
  },
  {
   "cell_type": "markdown",
   "metadata": {},
   "source": [
    "**Определение.** Система $Ax=f$ называется с *диагональным преобладанием*, если элементы матрицы $A$ удовлетворяют неравенствам\n",
    "$$ \\left| a_{ii} \\right| > \\sum_{\\substack{j=1 \\\\ j \\not = i}}^n{\\left | a_{ij} \\right|},\\quad 1 \\leq i \\leq n. $$\n",
    "\n",
    "**Теорема.** Система с диагональным преобладанием всегда разрешима единственным образом.\n",
    "\n",
    "$\\blacktriangle$ Рассмотрим однородную систему \n",
    "$$\\sum\\limits_{j=1}^n{a_{ij}x_j}=0,\\quad 1 \\leq i \\leq n.$$\n",
    "Пусть она имеет *нетривиальное решение* $\\bar x$. Пусть наибольшая по модулю компонента решения соответсвует индексу $j=k$, т.е.\n",
    "$$\\left | \\bar x_k \\right| > 0, \\quad \\left | \\bar x_k \\right | \\geq \\left | \\bar x_j \\right |,\\quad 1 \\leq j \\leq n.$$\n",
    "Запишем $k$-ое уравнение системы в виде:\n",
    "$$ a_{kk} \\bar x_k = -\\sum\\limits_{\\substack{j=1 \\\\ j \\not = k}}^n{a_{kj} \\bar x_j}.$$\n",
    "Возьмем модуль от обеих частей равенства и получим:\n",
    "$$ \n",
    "\\left| a_{kk} \\right| \\left| \\bar x_k \\right| \n",
    "\\leq \n",
    "\\sum\\limits_{\\substack{j=1 \\\\ j \\not = k}}^n{\n",
    "    \\left| a_{kj} \\right| \\left| \\bar x_j \\right|\n",
    "}\n",
    "\\leq\n",
    "\\sum\\limits_{\\substack{j=1 \\\\ j \\not = k}}^n{\n",
    "    \\left| a_{kj} \\right| \\left| \\bar x_k \\right|\n",
    "}\n",
    "$$\n",
    "Сокращая неравенство на $\\left| \\bar x_k \\right| \\not = 0$, получим:\n",
    "$$\n",
    "\\left| a_{kk} \\right|\n",
    "\\leq\n",
    "\\sum\\limits_{\\substack{j=1 \\\\ j \\not = k}}^n{\n",
    "    \\left| a_{kj} \\right|\n",
    "}\n",
    "$$\n",
    "Противоречие.\n",
    "\n",
    "Таким образом\n",
    "1. Однородная система с диагональным преобладанием имеет только тривиальное решение $\\Rightarrow$\n",
    "2. Определитель матрицы $A$ с диагональным преобладанием не равен нулю $\\Rightarrow$\n",
    "3. Неоднородная система с диагональным преобладанием всегда разрешима единственным образом.\n",
    "$\\blacksquare$"
   ]
  },
  {
   "cell_type": "markdown",
   "metadata": {},
   "source": [
    "### Метод прогонки."
   ]
  },
  {
   "cell_type": "markdown",
   "metadata": {},
   "source": [
    "Рассмотрим СЛАУ вида\n",
    "$$ A_ix_{i-1} + C_ix_i + B_ix_{i+1} = F_i,\\quad i = 1,\\ldots ,n $$\n",
    "$$ x_0 = q_0, \\; x_{n+1} = q_{n+1}. $$\n",
    "(Последние два равенства задают *краевые условия*)\n",
    "\n",
    "Запишем эту систему в виде:\n",
    "$$\n",
    "\\begin{aligned}\n",
    "    C_1x_1 + B_1x_2 &= F_1 - A_1q_0; \\\\\n",
    "    A_2x_2 + C_2x_3 + B_2x_4 &= F_2; \\\\\n",
    "    \\cdots \\\\\n",
    "    A_nx_{n-1} + C_nx_n &= F_n - A_nq_{n+1}.\n",
    "\\end{aligned}\n",
    "$$\n",
    "\n",
    "Матрица этой системы имеет трехдиагональную структуру:\n",
    "\n",
    "$$\n",
    "\\begin{bmatrix}\n",
    "    C_1 & B_1 & 0 & 0 & \\ldots & 0 & 0 \\\\\n",
    "    A_2 & C_2 & B_2 & 0 & \\ldots & 0 & 0 \\\\\n",
    "    0 & A_3 & C_3 & B_3 & \\ldots & 0 & 0 \\\\\n",
    "    \\ldots & \\ldots & \\ldots & \\ldots & \\ldots & \\ldots & \\ldots \\\\\n",
    "    0 & 0 & 0 & 0 & \\ldots & A_n & C_n\n",
    "\\end{bmatrix}\n",
    "$$\n",
    "\n",
    "**Метод прогонки** основан на предположении, что искомые неизвестные $x_i$ и $x_{i+1}$ связаны рекуррентным соотношением \n",
    "$$ x_i = \\alpha_{i+1}x_{i+1} + \\beta_{i+1},\\quad 0 \\leq i \\leq n. $$\n",
    "Величины $\\alpha_i$ и $\\beta_i$ называются *прогоночными коэффициентами*. По сути, задача нахождения корней свелась к нахождению прогоночных коэффициентов и последующих вычислений по ним корней.\n",
    "\n",
    "**Как найти прогоночные коэффициенты?** Выразим $x_{i-1}$ через $x_{i+1}$:\n",
    "$$ \n",
    "    x_{i-1} =\n",
    "    \\alpha_ix_i + \\beta_i =\n",
    "    \\alpha_i\\alpha_{i+1}x_{i+1} + \\alpha_i\\beta_{i+1} + \\beta_i\n",
    "$$\n",
    "и подставим $x_{i-1}$ и $x_i$ в исходные уравнения:\n",
    "$$\n",
    "    (A_i\\alpha_i\\alpha_{i+1} + C_i\\alpha_{i+1} + B_i)x_{i+1} +\n",
    "    A_i\\alpha_i\\beta_{i+1} + A_i\\beta_i + C_i\\beta_{i+1} - F_i\n",
    "    = 0,\\quad i = 1,\\ldots,n.\n",
    "$$\n",
    "\n",
    "Последнее будет выполнятся всегда (независимо от решения), если потребовать выполнения:\n",
    "$$\n",
    "\\begin{aligned}\n",
    "    & A_i\\alpha_i\\alpha_{i+1} + C_i\\alpha_{i+1} + B_i = 0 \\\\\n",
    "    & A_i\\alpha_i\\beta_{i+1} + A_i\\beta_i + C_i\\beta_{i+1} - F_i = 0 \\\\\n",
    "    & i = 1,\\ldots,n.\n",
    "\\end{aligned}\n",
    "$$\n",
    "\n",
    "Отсюда получаем:\n",
    "$$\n",
    "\\begin{aligned}\n",
    "    & \\alpha_{i+1} = \\frac{-B_i}{A_i\\alpha_i + C_i}, \\\\\n",
    "    & \\beta_{i+1} = \\frac{F_i - A_i\\beta_i}{A_i\\alpha_i + C_i}, \\\\\n",
    "    & i = 1, \\ldots, n.\n",
    "\\end{aligned}\n",
    "$$\n",
    "\n",
    "Левое граничное условие $x_0 = q_0$ и соотношение $x_0 = \\alpha_1x_1 + \\beta_1$ не противоречат, если положить\n",
    "$$ \\alpha_1 = 0,\\quad \\beta_1 = q_0. $$\n",
    "\n",
    "Остальные значения коэффициентов прогонки $\\alpha_2,\\ldots,\\alpha_{n+1}$ и $\\beta_2,\\ldots,\\beta_{n+1}$ вычисляются по рекурентным формулам.\n",
    "\n",
    "Согласно граничному условию,\n",
    "$$ x_{n+1} = q_{n+1}. $$\n",
    "Корни $x_n,\\ldots,x_1$ вычисляются по рекурентной формуле."
   ]
  },
  {
   "cell_type": "markdown",
   "metadata": {},
   "source": [
    "#### Пример"
   ]
  },
  {
   "cell_type": "code",
   "execution_count": 1,
   "metadata": {
    "collapsed": true
   },
   "outputs": [],
   "source": [
    "#подключим библиотеку для работы с \"матрицами\"\n",
    "import numpy as np"
   ]
  },
  {
   "cell_type": "code",
   "execution_count": 2,
   "metadata": {
    "collapsed": false
   },
   "outputs": [
    {
     "name": "stdout",
     "output_type": "stream",
     "text": [
      "[[   2   -1    0    0    0  -25]\n",
      " [  -3    8   -1    0    0   72]\n",
      " [   0   -5   12    2    0  -69]\n",
      " [   0    0   -6   18   -4 -156]\n",
      " [   0    0    0   -5   10   20]]\n"
     ]
    }
   ],
   "source": [
    "A = np.array(\n",
    "        [[2, -1, 0, 0, 0],\n",
    "         [-3, 8, -1, 0, 0],\n",
    "         [0, -5 ,12, 2, 0],\n",
    "         [0, 0, -6, 18, -4],\n",
    "         [0, 0, 0, -5, 10]]\n",
    "    )\n",
    "f = np.array([-25, 72, -69, -156, 20])\n",
    "f.shape = (f.shape[0], 1)\n",
    "Af = np.hstack((A, f)) #A = [A|f]\n",
    "print(Af)"
   ]
  },
  {
   "cell_type": "code",
   "execution_count": 3,
   "metadata": {
    "collapsed": true
   },
   "outputs": [],
   "source": [
    "n = Af.shape[0] #размерность"
   ]
  },
  {
   "cell_type": "code",
   "execution_count": 4,
   "metadata": {
    "collapsed": false
   },
   "outputs": [
    {
     "name": "stdout",
     "output_type": "stream",
     "text": [
      "A:  [ 0 -3 -5 -6 -5]\n",
      "C:  [ 2  8 12 18 10]\n",
      "B:  [-1 -1  2 -4  0]\n",
      "F:  [ -25   72  -69 -156   20]\n"
     ]
    }
   ],
   "source": [
    "#упростим себе жизнь и отдельно запишем в массивы значения A, B, C, F\n",
    "A = np.array([0] + [Af[i+1, i] for i in range(n - 1)])\n",
    "C = np.array([Af[i, i] for i in range(n)])\n",
    "B = np.array([Af[i-1, i] for i in range(1, n)] + [0])\n",
    "F = Af.T[Af.shape[1] - 1]\n",
    "\n",
    "print(\"A: \", A)\n",
    "print(\"C: \", C)\n",
    "print(\"B: \", B)\n",
    "print(\"F: \", F)"
   ]
  },
  {
   "cell_type": "markdown",
   "metadata": {},
   "source": [
    "Для упрощения, возьмем значения краевых условий\n",
    "$$q_0 = 0,\\; q_{n+1} = 0 \\;\\Rightarrow\\; \\alpha_1 = 0,\\; \\beta_1 = 0$$"
   ]
  },
  {
   "cell_type": "code",
   "execution_count": 5,
   "metadata": {
    "collapsed": false
   },
   "outputs": [
    {
     "name": "stdout",
     "output_type": "stream",
     "text": [
      "alpha: [ 0.          0.5         0.15384615 -0.17808219  0.20977011  0.        ]\n",
      "beta: [  0.         -12.5          5.30769231  -3.78082192  -9.37068966  -3.        ]\n"
     ]
    }
   ],
   "source": [
    "#вычислим прогоночные коэффициенты\n",
    "alpha = np.empty(n+1)\n",
    "beta = np.empty(n+1)\n",
    "\n",
    "alpha[0] = 0\n",
    "beta[0] = 0\n",
    "\n",
    "for i in range(n):\n",
    "    alpha[i + 1] = -B[i] / (A[i] * alpha[i] + C[i])\n",
    "    beta[i + 1] = (F[i] - A[i]*beta[i])/(A[i] * alpha[i] + C[i])\n",
    "    \n",
    "print(\"alpha:\", alpha)\n",
    "print(\"beta:\", beta)"
   ]
  },
  {
   "cell_type": "markdown",
   "metadata": {},
   "source": [
    "Так как $q_{n+1} = 0 \\Rightarrow x_{n+1} = 0$"
   ]
  },
  {
   "cell_type": "code",
   "execution_count": 6,
   "metadata": {
    "collapsed": false
   },
   "outputs": [
    {
     "name": "stdout",
     "output_type": "stream",
     "text": [
      "x: [-10.   5.  -2. -10.  -3.]\n"
     ]
    }
   ],
   "source": [
    "#вычислим значения корней\n",
    "x = np.empty(n)\n",
    "\n",
    "#отдельно вычислим n-ый корень\n",
    "x[n-1] = beta[n]\n",
    "\n",
    "for i in range(n - 2, -1, -1):\n",
    "    x[i] = alpha[i+1] * x[i+1] + beta[i+1]\n",
    "    \n",
    "print(\"x:\", x)"
   ]
  },
  {
   "cell_type": "markdown",
   "metadata": {},
   "source": [
    "С Вольфрамом совпадает."
   ]
  }
 ],
 "metadata": {
  "anaconda-cloud": {},
  "kernelspec": {
   "display_name": "Python [default]",
   "language": "python",
   "name": "python3"
  },
  "language_info": {
   "codemirror_mode": {
    "name": "ipython",
    "version": 3
   },
   "file_extension": ".py",
   "mimetype": "text/x-python",
   "name": "python",
   "nbconvert_exporter": "python",
   "pygments_lexer": "ipython3",
   "version": "3.5.2"
  }
 },
 "nbformat": 4,
 "nbformat_minor": 1
}
